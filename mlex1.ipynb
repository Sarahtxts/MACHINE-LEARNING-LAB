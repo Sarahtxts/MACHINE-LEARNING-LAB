{
 "cells": [
  {
   "cell_type": "code",
   "execution_count": 3,
   "metadata": {},
   "outputs": [
    {
     "name": "stdout",
     "output_type": "stream",
     "text": [
      "     Outlook Temperature Humidity    Wind Play Tennis\n",
      "0      Sunny         Hot     High    Weak          No\n",
      "1      Sunny         Hot     High  Strong          No\n",
      "2   Overcast         Hot     High    Weak         Yes\n",
      "3       Rain        Mild     High    Weak         Yes\n",
      "4       Rain        Cool   Normal    Weak         Yes\n",
      "5       Rain        Cool   Normal  Strong          No\n",
      "6   Overcast        Cool   Normal  Strong         Yes\n",
      "7      Sunny        Mild     High    Weak          No\n",
      "8      Sunny        Cool   Normal    Weak         Yes\n",
      "9       Rain        Mild   Normal    Weak         Yes\n",
      "10     Sunny        Mild   Normal  Strong         Yes\n",
      "11  Overcast        Mild     High  Strong         Yes\n",
      "12  Overcast         Hot   Normal    Weak         Yes\n",
      "13      Rain        Mild     High  Strong          No\n"
     ]
    }
   ],
   "source": [
    " \n",
    "import numpy as np \n",
    "import pandas as pd \n",
    "# Loading Data from a CSV File \n",
    "data = pd.DataFrame(data=pd.read_csv(r\"C:\\Users\\sarah\\Downloads\\PlayTennis.csv\")) \n",
    "print(data)"
   ]
  },
  {
   "cell_type": "code",
   "execution_count": 4,
   "metadata": {},
   "outputs": [
    {
     "name": "stdout",
     "output_type": "stream",
     "text": [
      "[['Sunny' 'Hot' 'High' 'Weak']\n",
      " ['Sunny' 'Hot' 'High' 'Strong']\n",
      " ['Overcast' 'Hot' 'High' 'Weak']\n",
      " ['Rain' 'Mild' 'High' 'Weak']\n",
      " ['Rain' 'Cool' 'Normal' 'Weak']\n",
      " ['Rain' 'Cool' 'Normal' 'Strong']\n",
      " ['Overcast' 'Cool' 'Normal' 'Strong']\n",
      " ['Sunny' 'Mild' 'High' 'Weak']\n",
      " ['Sunny' 'Cool' 'Normal' 'Weak']\n",
      " ['Rain' 'Mild' 'Normal' 'Weak']\n",
      " ['Sunny' 'Mild' 'Normal' 'Strong']\n",
      " ['Overcast' 'Mild' 'High' 'Strong']\n",
      " ['Overcast' 'Hot' 'Normal' 'Weak']\n",
      " ['Rain' 'Mild' 'High' 'Strong']]\n"
     ]
    }
   ],
   "source": [
    "concepts = np.array(data.iloc[:,0:-1]) \n",
    "print(concepts) "
   ]
  },
  {
   "cell_type": "code",
   "execution_count": 5,
   "metadata": {},
   "outputs": [
    {
     "name": "stdout",
     "output_type": "stream",
     "text": [
      "['No' 'No' 'Yes' 'Yes' 'Yes' 'No' 'Yes' 'No' 'Yes' 'Yes' 'Yes' 'Yes' 'Yes'\n",
      " 'No']\n"
     ]
    }
   ],
   "source": [
    "target = np.array(data.iloc[:,-1]) \n",
    "print(target) \n"
   ]
  },
  {
   "cell_type": "code",
   "execution_count": 6,
   "metadata": {},
   "outputs": [
    {
     "name": "stdout",
     "output_type": "stream",
     "text": [
      "\n",
      "Initial Specific Hypothesis:\n",
      " ['Sunny' 'Hot' 'High' 'Weak']\n",
      "\n",
      "Initial General Hypothesis:\n",
      " [['?', '?', '?', '?'], ['?', '?', '?', '?'], ['?', '?', '?', '?'], ['?', '?', '?', '?']]\n",
      "\n",
      "Step 1 of Candidate Elimination Algorithm:\n",
      "Specific Hypothesis: ['Sunny' 'Hot' 'High' 'Weak']\n",
      "General Hypothesis: [['?', '?', '?', '?'], ['?', '?', '?', '?'], ['?', '?', '?', '?'], ['?', '?', '?', '?']]\n",
      "\n",
      "Step 2 of Candidate Elimination Algorithm:\n",
      "Specific Hypothesis: ['Sunny' 'Hot' 'High' 'Weak']\n",
      "General Hypothesis: [['?', '?', '?', '?'], ['?', '?', '?', '?'], ['?', '?', '?', '?'], ['?', '?', '?', 'Weak']]\n",
      "\n",
      "Step 3 of Candidate Elimination Algorithm:\n",
      "Specific Hypothesis: ['?' 'Hot' 'High' 'Weak']\n",
      "General Hypothesis: [['?', '?', '?', '?'], ['?', '?', '?', '?'], ['?', '?', '?', '?'], ['?', '?', '?', 'Weak']]\n",
      "\n",
      "Step 4 of Candidate Elimination Algorithm:\n",
      "Specific Hypothesis: ['?' '?' 'High' 'Weak']\n",
      "General Hypothesis: [['?', '?', '?', '?'], ['?', '?', '?', '?'], ['?', '?', '?', '?'], ['?', '?', '?', 'Weak']]\n",
      "\n",
      "Step 5 of Candidate Elimination Algorithm:\n",
      "Specific Hypothesis: ['?' '?' '?' 'Weak']\n",
      "General Hypothesis: [['?', '?', '?', '?'], ['?', '?', '?', '?'], ['?', '?', '?', '?'], ['?', '?', '?', 'Weak']]\n",
      "\n",
      "Step 6 of Candidate Elimination Algorithm:\n",
      "Specific Hypothesis: ['?' '?' '?' 'Weak']\n",
      "General Hypothesis: [['?', '?', '?', '?'], ['?', '?', '?', '?'], ['?', '?', '?', '?'], ['?', '?', '?', 'Weak']]\n",
      "\n",
      "Step 7 of Candidate Elimination Algorithm:\n",
      "Specific Hypothesis: ['?' '?' '?' '?']\n",
      "General Hypothesis: [['?', '?', '?', '?'], ['?', '?', '?', '?'], ['?', '?', '?', '?'], ['?', '?', '?', '?']]\n",
      "\n",
      "Step 8 of Candidate Elimination Algorithm:\n",
      "Specific Hypothesis: ['?' '?' '?' '?']\n",
      "General Hypothesis: [['?', '?', '?', '?'], ['?', '?', '?', '?'], ['?', '?', '?', '?'], ['?', '?', '?', '?']]\n",
      "\n",
      "Step 9 of Candidate Elimination Algorithm:\n",
      "Specific Hypothesis: ['?' '?' '?' '?']\n",
      "General Hypothesis: [['?', '?', '?', '?'], ['?', '?', '?', '?'], ['?', '?', '?', '?'], ['?', '?', '?', '?']]\n",
      "\n",
      "Step 10 of Candidate Elimination Algorithm:\n",
      "Specific Hypothesis: ['?' '?' '?' '?']\n",
      "General Hypothesis: [['?', '?', '?', '?'], ['?', '?', '?', '?'], ['?', '?', '?', '?'], ['?', '?', '?', '?']]\n",
      "\n",
      "Step 11 of Candidate Elimination Algorithm:\n",
      "Specific Hypothesis: ['?' '?' '?' '?']\n",
      "General Hypothesis: [['?', '?', '?', '?'], ['?', '?', '?', '?'], ['?', '?', '?', '?'], ['?', '?', '?', '?']]\n",
      "\n",
      "Step 12 of Candidate Elimination Algorithm:\n",
      "Specific Hypothesis: ['?' '?' '?' '?']\n",
      "General Hypothesis: [['?', '?', '?', '?'], ['?', '?', '?', '?'], ['?', '?', '?', '?'], ['?', '?', '?', '?']]\n",
      "\n",
      "Step 13 of Candidate Elimination Algorithm:\n",
      "Specific Hypothesis: ['?' '?' '?' '?']\n",
      "General Hypothesis: [['?', '?', '?', '?'], ['?', '?', '?', '?'], ['?', '?', '?', '?'], ['?', '?', '?', '?']]\n",
      "\n",
      "Step 14 of Candidate Elimination Algorithm:\n",
      "Specific Hypothesis: ['?' '?' '?' '?']\n",
      "General Hypothesis: [['?', '?', '?', '?'], ['?', '?', '?', '?'], ['?', '?', '?', '?'], ['?', '?', '?', '?']]\n",
      "\n",
      "Final Specific Hypothesis:\n",
      " ['?' '?' '?' '?']\n",
      "\n",
      "Final General Hypothesis:\n",
      " []\n"
     ]
    }
   ],
   "source": [
    "def learn(concepts, target): \n",
    "    ''' \n",
    "    Implements the Candidate Elimination Algorithm. \n",
    "\n",
    "    Arguments: \n",
    "        concepts - A NumPy array of training examples.\n",
    "        target - A NumPy array containing the class labels (\"Yes\"/\"No\").\n",
    "    ''' \n",
    "    # Initialize Specific Hypothesis (S) with the first positive example\n",
    "    specific_h = concepts[0].copy()\n",
    "    print(\"\\nInitial Specific Hypothesis:\\n\", specific_h)\n",
    "\n",
    "    # Initialize General Hypothesis (G) with the most general case\n",
    "    general_h = [[\"?\" for _ in range(len(specific_h))] for _ in range(len(specific_h))]\n",
    "    print(\"\\nInitial General Hypothesis:\\n\", general_h)\n",
    "\n",
    "    # Learning phase\n",
    "    for i, h in enumerate(concepts): \n",
    "        if target[i] == \"Yes\":  \n",
    "            # Generalize specific hypothesis (S)\n",
    "            for x in range(len(specific_h)): \n",
    "                if h[x] != specific_h[x]: \n",
    "                    specific_h[x] = '?'  \n",
    "                    general_h[x][x] = '?'  \n",
    "        elif target[i] == \"No\":  \n",
    "            # Specialize general hypothesis (G)\n",
    "            for x in range(len(specific_h)): \n",
    "                if h[x] != specific_h[x]:  \n",
    "                    general_h[x][x] = specific_h[x]  \n",
    "                else:  \n",
    "                    general_h[x][x] = '?'  \n",
    "\n",
    "        print(f\"\\nStep {i+1} of Candidate Elimination Algorithm:\")\n",
    "        print(\"Specific Hypothesis:\", specific_h)\n",
    "        print(\"General Hypothesis:\", general_h)\n",
    "\n",
    "    # Remove redundant general hypotheses (fully general rows)\n",
    "    general_h = [g for g in general_h if g != ['?'] * len(specific_h)]\n",
    "\n",
    "    return specific_h, general_h\n",
    "\n",
    "# Run Candidate Elimination Algorithm\n",
    "s_final, g_final = learn(concepts, target)\n",
    "\n",
    "print(\"\\nFinal Specific Hypothesis:\\n\", s_final)\n",
    "print(\"\\nFinal General Hypothesis:\\n\", g_final)\n"
   ]
  }
 ],
 "metadata": {
  "kernelspec": {
   "display_name": "Python 3",
   "language": "python",
   "name": "python3"
  },
  "language_info": {
   "codemirror_mode": {
    "name": "ipython",
    "version": 3
   },
   "file_extension": ".py",
   "mimetype": "text/x-python",
   "name": "python",
   "nbconvert_exporter": "python",
   "pygments_lexer": "ipython3",
   "version": "3.11.3"
  }
 },
 "nbformat": 4,
 "nbformat_minor": 2
}
