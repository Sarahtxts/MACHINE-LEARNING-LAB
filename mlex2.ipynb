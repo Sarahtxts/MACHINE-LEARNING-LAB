{
 "cells": [
  {
   "cell_type": "code",
   "execution_count": 3,
   "metadata": {},
   "outputs": [
    {
     "name": "stdout",
     "output_type": "stream",
     "text": [
      "  Outlook\n",
      "    Overcast\n",
      "       -> Yes\n",
      "    Rain\n",
      "        Wind\n",
      "          Strong\n",
      "             -> No\n",
      "          Weak\n",
      "             -> Yes\n",
      "    Sunny\n",
      "        Humidity\n",
      "          High\n",
      "             -> No\n",
      "          Normal\n",
      "             -> Yes\n"
     ]
    }
   ],
   "source": [
    "import numpy as np\n",
    "import csv\n",
    "import math\n",
    "\n",
    "def read_data(filename):\n",
    "    with open(filename, 'r') as csvfile:\n",
    "        datareader = csv.reader(csvfile)\n",
    "        headers = next(datareader)\n",
    "        return headers, np.array([row for row in datareader], dtype=object)\n",
    "\n",
    "class Node:\n",
    "    def __init__(self, attribute=\"\"):\n",
    "        self.attribute, self.children, self.answer = attribute, [], \"\"\n",
    "\n",
    "def entropy(S):\n",
    "    items, counts = np.unique(S, return_counts=True)\n",
    "    probs = counts / S.size\n",
    "    return -sum(probs * np.log2(probs)) if len(items) > 1 else 0\n",
    "\n",
    "def subtables(data, col, delete=True):\n",
    "    items = np.unique(data[:, col])\n",
    "    dict = {i: data[data[:, col] == i] for i in items}\n",
    "    return {k: np.delete(v, col, 1) if delete else v for k, v in dict.items()}\n",
    "\n",
    "def gain_ratio(data, col):\n",
    "    subsets = subtables(data, col, delete=False)\n",
    "    total_entropy = entropy(data[:, -1])\n",
    "    iv = sum(-(len(sub) / len(data)) * math.log2(len(sub) / len(data)) for sub in subsets.values() if len(sub))\n",
    "    return (total_entropy - sum(len(sub) / len(data) * entropy(sub[:, -1]) for sub in subsets.values())) / iv if iv else 0\n",
    "\n",
    "def create_node(data, metadata):\n",
    "    if len(np.unique(data[:, -1])) == 1:\n",
    "        node = Node()\n",
    "        node.answer = data[0, -1]\n",
    "        return node\n",
    "    split = np.argmax([gain_ratio(data, col) for col in range(data.shape[1] - 1)])\n",
    "    node = Node(metadata[split])\n",
    "    for val, subset in subtables(data, split).items():\n",
    "        node.children.append((val, create_node(subset, np.delete(metadata, split, 0))))\n",
    "    return node\n",
    "\n",
    "def print_tree(node, level=0):\n",
    "    print(\"   \" * level, \"->\" if node.answer else \"\", node.answer or node.attribute)\n",
    "    for val, child in node.children:\n",
    "        print(\"   \" * (level + 1), val)\n",
    "        print_tree(child, level + 2)\n",
    "\n",
    "metadata, data = read_data(r\"C:\\Users\\sarah\\Downloads\\PlayTennis.csv\")\n",
    "print_tree(create_node(data, metadata))\n",
    "\n"
   ]
  }
 ],
 "metadata": {
  "kernelspec": {
   "display_name": "Python 3",
   "language": "python",
   "name": "python3"
  },
  "language_info": {
   "codemirror_mode": {
    "name": "ipython",
    "version": 3
   },
   "file_extension": ".py",
   "mimetype": "text/x-python",
   "name": "python",
   "nbconvert_exporter": "python",
   "pygments_lexer": "ipython3",
   "version": "3.11.3"
  }
 },
 "nbformat": 4,
 "nbformat_minor": 2
}
